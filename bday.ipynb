{
 "cells": [
  {
   "cell_type": "code",
   "execution_count": 1,
   "metadata": {},
   "outputs": [],
   "source": [
    "import datetime as dt\n",
    "from dateutil import relativedelta\n",
    "from win10toast import ToastNotifier\n",
    "import time"
   ]
  },
  {
   "cell_type": "code",
   "execution_count": 2,
   "metadata": {},
   "outputs": [],
   "source": [
    "# Converts numbers to ordinals for better readability\n",
    "def ordinaltg(n):\n",
    "    return str(n) + {1: 'st', 2: 'nd', 3: 'rd'}.get(\n",
    "        4 if 10 <= n % 100 < 20 else n % 10, \"th\")"
   ]
  },
  {
   "cell_type": "code",
   "execution_count": 3,
   "metadata": {},
   "outputs": [],
   "source": [
    "def upcoming(name, bdate):\n",
    "    today = dt.datetime.combine(dt.date.today(), dt.datetime.min.time())\n",
    "\n",
    "    age = relativedelta.relativedelta(today, bdate)\n",
    "    new_age_form = ordinaltg(age.years + 1)\n",
    "    if age.months >= 10:\n",
    "        return f\"{name}'s {new_age_form} birthday is coming up. Consider purchasing a gift!\"\n",
    "    else:\n",
    "        return None"
   ]
  },
  {
   "cell_type": "code",
   "execution_count": 4,
   "metadata": {},
   "outputs": [],
   "source": [
    "def notifier (bday_dict):\n",
    "    for i in bday_dict:\n",
    "        for j in bday_dict[i]:\n",
    "            \n",
    "            toaster = ToastNotifier()\n",
    "            updates = upcoming(*j)\n",
    "\n",
    "            if updates != None:\n",
    "                toaster.show_toast('Birthday Reminder Running',\n",
    "                                updates,\n",
    "                            icon_path=None,\n",
    "                            duration=5)\n",
    "                while toaster.notification_active(): time.sleep(0.1)\n"
   ]
  },
  {
   "cell_type": "code",
   "execution_count": 5,
   "metadata": {},
   "outputs": [],
   "source": [
    "# Insert Birthday Information Below:\n",
    "####################################\n",
    "# Name\n",
    "name = \"Adria\"\n",
    "####################################\n",
    "# Use \"mm/dd/yy\" Format\n",
    "bday = \"10/12/98\"\n",
    "####################################\n",
    "# Which group best fits this person: Family, Friend, General\n",
    "group = \"General\"\n",
    "####################################"
   ]
  },
  {
   "cell_type": "code",
   "execution_count": 6,
   "metadata": {},
   "outputs": [],
   "source": [
    "bday_dict = {}\n"
   ]
  },
  {
   "cell_type": "code",
   "execution_count": 7,
   "metadata": {},
   "outputs": [],
   "source": [
    "bday_form = dt.datetime.strptime(bday, \"%m/%d/%y\")\n",
    "if group not in bday_dict:\n",
    "    bday_dict[group] = [(name, bday_form)]\n",
    "else:\n",
    "    bday_dict[group].append((name, bday_form))\n"
   ]
  },
  {
   "cell_type": "code",
   "execution_count": 8,
   "metadata": {},
   "outputs": [
    {
     "name": "stderr",
     "output_type": "stream",
     "text": [
      "WNDPROC return value cannot be converted to LRESULT\n"
     ]
    },
    {
     "ename": "TypeError",
     "evalue": "WPARAM is simple, so must be an int object (got NoneType)",
     "output_type": "error",
     "traceback": [
      "\u001b[1;31m---------------------------------------------------------------------------\u001b[0m",
      "\u001b[1;31mTypeError\u001b[0m                                 Traceback (most recent call last)",
      "\u001b[1;31mTypeError\u001b[0m: WPARAM is simple, so must be an int object (got NoneType)"
     ]
    }
   ],
   "source": [
    "notifier(bday_dict)"
   ]
  }
 ],
 "metadata": {
  "kernelspec": {
   "display_name": "Python 3",
   "language": "python",
   "name": "python3"
  },
  "language_info": {
   "codemirror_mode": {
    "name": "ipython",
    "version": 3
   },
   "file_extension": ".py",
   "mimetype": "text/x-python",
   "name": "python",
   "nbconvert_exporter": "python",
   "pygments_lexer": "ipython3",
   "version": "3.10.10"
  },
  "orig_nbformat": 4
 },
 "nbformat": 4,
 "nbformat_minor": 2
}
